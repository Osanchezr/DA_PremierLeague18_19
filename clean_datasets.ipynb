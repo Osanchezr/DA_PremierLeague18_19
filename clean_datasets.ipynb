{
 "cells": [
  {
   "cell_type": "markdown",
   "metadata": {},
   "source": [
    "# Clean DataSets "
   ]
  },
  {
   "cell_type": "markdown",
   "metadata": {},
   "source": [
    "## 0.Import origin data"
   ]
  },
  {
   "cell_type": "code",
   "execution_count": null,
   "metadata": {},
   "outputs": [],
   "source": [
    "import pandas as pd\n",
    "import pymysql\n",
    "from sqlalchemy import create_engine\n",
    "import getpass  # Para obtener la contraseña sin mostrar la entrada\n",
    "\n",
    "matchs = pd.read_csv(\"C:/Users/osanc/Desktop/IronHack/Sem_4/Project/england-premier-league-matches-2018-to-2019-stats.csv\")\n",
    "players = pd.read_csv(\"C:/Users/osanc/Desktop/IronHack/Sem_4/Project/england-premier-league-players-2018-to-2019-stats.csv\")\n",
    "referes = pd.read_csv(\"C:/Users/osanc/Desktop/IronHack/Sem_4/Project/england-premier-league-referes-2018-to-2019-stats.csv\")\n",
    "stadiums = pd.read_csv(\"C:/Users/osanc/Desktop/IronHack/Sem_4/Project/england-premier-league-stadiums-2018-to-2019-stats.csv\")\n",
    "teams = pd.read_csv(\"C:/Users/osanc/Desktop/IronHack/Sem_4/Project/england-premier-league-teams-2018-to-2019-stats.csv\")"
   ]
  },
  {
   "cell_type": "markdown",
   "metadata": {},
   "source": [
    "## 1.Clean Teams "
   ]
  },
  {
   "cell_type": "code",
   "execution_count": null,
   "metadata": {},
   "outputs": [],
   "source": [
    "# 1.1 Crear una columna con un ID  Teams\n",
    "teams['id_teams'] = ['T{:03d}'.format(i) for i in range(1, len(teams) + 1)]"
   ]
  },
  {
   "cell_type": "code",
   "execution_count": null,
   "metadata": {},
   "outputs": [],
   "source": [
    "# 1.2 Seleccionar y orden de columnas de interes para análisis\n",
    "teams = teams[['id_teams','team_name', 'common_name', 'matches_played', 'matches_played_home',\n",
    "       'matches_played_away','wins', 'wins_home',\n",
    "       'wins_away', 'draws', 'draws_home', 'draws_away', 'losses',\n",
    "       'losses_home', 'losses_away', 'league_position', 'average_possession',\n",
    "       'average_possession_home', 'average_possession_away']]"
   ]
  },
  {
   "cell_type": "markdown",
   "metadata": {},
   "source": [
    "## 2.Clean Players"
   ]
  },
  {
   "cell_type": "code",
   "execution_count": null,
   "metadata": {},
   "outputs": [],
   "source": [
    "# 2.1 Selección de columnas de interes - players\n",
    "\n",
    "players = players[['full_name',\n",
    " 'age',\n",
    " 'birthday_GMT',\n",
    " 'position',\n",
    " 'Current Club',\n",
    " 'minutes_played_overall',\n",
    " 'minutes_played_home',\n",
    " 'minutes_played_away',\n",
    " 'nationality',\n",
    " 'appearances_overall',\n",
    " 'appearances_home',\n",
    " 'appearances_away',\n",
    " 'goals_overall',\n",
    " 'goals_home',\n",
    " 'goals_away',\n",
    " 'assists_overall',\n",
    " 'assists_home',\n",
    " 'assists_away',\n",
    " 'penalty_goals',\n",
    " 'penalty_misses',\n",
    " 'yellow_cards_overall',\n",
    " 'red_cards_overall'\n",
    " ]]"
   ]
  },
  {
   "cell_type": "code",
   "execution_count": null,
   "metadata": {},
   "outputs": [],
   "source": [
    "# 2.2 Unificación con teams para remplazar current club de players por id_teams de teams\n",
    "players = pd.merge(players, teams, left_on='Current Club', right_on='common_name', how='left')"
   ]
  },
  {
   "cell_type": "code",
   "execution_count": null,
   "metadata": {},
   "outputs": [],
   "source": [
    "# 2.3 Creacion de codigo unico \"id_player\" en players\n",
    "players['id_player'] = ['P{:03d}'.format(i) for i in range(1, len(players) + 1)]"
   ]
  },
  {
   "cell_type": "code",
   "execution_count": null,
   "metadata": {},
   "outputs": [],
   "source": [
    "# 2.4 Final selección y orden de columnas de interes\n",
    "players = players[[\"id_player\",'full_name', 'age', 'birthday_GMT', 'position','id_teams' ,\n",
    "       'minutes_played_overall', 'minutes_played_home', 'minutes_played_away',\n",
    "       'nationality', 'appearances_overall', 'appearances_home',\n",
    "       'appearances_away', 'goals_overall', 'goals_home', 'goals_away',\n",
    "       'assists_overall', 'assists_home', 'assists_away', 'penalty_goals',\n",
    "       'penalty_misses', 'yellow_cards_overall', 'red_cards_overall']]"
   ]
  },
  {
   "cell_type": "markdown",
   "metadata": {},
   "source": [
    "## 3.Clean Stadiums"
   ]
  },
  {
   "cell_type": "code",
   "execution_count": null,
   "metadata": {},
   "outputs": [],
   "source": [
    "## 3.1 Creacion de codigo unico para estadios id_stadium\n",
    "stadiums['id_stadium'] = ['S{:03d}'.format(i) for i in range(1, len(stadiums) + 1)]"
   ]
  },
  {
   "cell_type": "code",
   "execution_count": null,
   "metadata": {},
   "outputs": [],
   "source": [
    "## 3.2 Seleccion y orden de columnas de interes\n",
    "stadiums = stadiums[['id_stadium','Stadium(city)', 'Stadium', 'location', 'ability', 'opening_year',\n",
    "       ]]"
   ]
  },
  {
   "cell_type": "markdown",
   "metadata": {},
   "source": [
    "## 4. Clean Referes"
   ]
  },
  {
   "cell_type": "code",
   "execution_count": null,
   "metadata": {},
   "outputs": [],
   "source": [
    "# 4.1 Creación de codigo unico id_refere\n",
    "referes['id_refere'] = ['R{:03d}'.format(i) for i in range(1, len(referes) + 1)]"
   ]
  },
  {
   "cell_type": "code",
   "execution_count": null,
   "metadata": {},
   "outputs": [],
   "source": [
    "# 4.2 Selección y orden de variables de interes\n",
    "referes = referes[['id_refere','Name', 'Nationality', 'Birthdate', 'debut_year']]"
   ]
  },
  {
   "cell_type": "markdown",
   "metadata": {},
   "source": [
    "## 5. Clean Calendary"
   ]
  },
  {
   "cell_type": "code",
   "execution_count": null,
   "metadata": {},
   "outputs": [],
   "source": [
    "# 5.1 Extraccion de columna date_GMT de match para creacion de calendary\n",
    "calendary = matchs[['date_GMT']]"
   ]
  },
  {
   "cell_type": "code",
   "execution_count": null,
   "metadata": {},
   "outputs": [],
   "source": [
    "# 5.2 Extracción de solo fechas de columna\n",
    "def extract_date_only(date_string):\n",
    "    return pd.to_datetime(date_string, format='%b %d %Y - %I:%M%p').date()\n",
    "\n",
    "\n",
    "calendary[\"date\"] = calendary['date_GMT'].apply(extract_date_only)"
   ]
  },
  {
   "cell_type": "code",
   "execution_count": null,
   "metadata": {},
   "outputs": [],
   "source": [
    "# 5.3 Creacion de year, month y day \n",
    "calendary['year'] = pd.to_datetime(calendary['date']).dt.year\n",
    "calendary['month'] = pd.to_datetime(calendary['date']).dt.month\n",
    "calendary['day'] = pd.to_datetime(calendary['date']).dt.day"
   ]
  },
  {
   "cell_type": "code",
   "execution_count": null,
   "metadata": {},
   "outputs": [],
   "source": [
    "# 5.4 Eliminacion de duplicados\n",
    "calendary = calendary.drop_duplicates(subset='date_GMT')"
   ]
  },
  {
   "cell_type": "code",
   "execution_count": null,
   "metadata": {},
   "outputs": [],
   "source": [
    "# 5.5 Creacion de codigo unico ID de calendary\n",
    "calendary['id_calendary'] = ['C{:03d}'.format(i) for i in range(1, len(calendary) + 1)]"
   ]
  },
  {
   "cell_type": "code",
   "execution_count": null,
   "metadata": {},
   "outputs": [],
   "source": [
    "# 5.6 Selección y orden  de columnas de interes\n",
    "calendary = calendary[['id_calendary','date_GMT', 'date', 'year', 'month', 'day']]"
   ]
  },
  {
   "cell_type": "markdown",
   "metadata": {},
   "source": [
    "## 6. Clean Matchs"
   ]
  },
  {
   "cell_type": "code",
   "execution_count": null,
   "metadata": {},
   "outputs": [],
   "source": [
    "# 6.1 Selección de columnas de interes - matchs\n",
    "matchs = matchs[['date_GMT', 'home_team_name',\n",
    "       'away_team_name', 'referee', 'Game Week','home_team_goal_count',\n",
    "       'away_team_goal_count', 'total_goal_count','home_team_yellow_cards', 'home_team_red_cards',\n",
    "       'away_team_yellow_cards', 'away_team_red_cards','stadium_name'\n",
    " ]]"
   ]
  },
  {
   "cell_type": "code",
   "execution_count": null,
   "metadata": {},
   "outputs": [],
   "source": [
    "# 6.2 Creación de código unico de partido id_match\n",
    "matchs['id_match'] = ['M{:03d}'.format(i) for i in range(1, len(matchs) + 1)]"
   ]
  },
  {
   "cell_type": "code",
   "execution_count": null,
   "metadata": {},
   "outputs": [],
   "source": [
    "# 6.3 Merge con tabla refere para remplazar refere de matchs por id_refere de referes\n",
    "matchs = pd.merge(matchs, referes, left_on='referee', right_on='Name', how='left')"
   ]
  },
  {
   "cell_type": "code",
   "execution_count": null,
   "metadata": {},
   "outputs": [],
   "source": [
    "# 6.4 Merge con tabla stadium para remplazar stadium_name de matchs por id_stadium de stadium\n",
    "matchs = pd.merge(matchs, stadiums, left_on='stadium_name', right_on='Stadium(city)', how='left')"
   ]
  },
  {
   "cell_type": "code",
   "execution_count": null,
   "metadata": {},
   "outputs": [],
   "source": [
    "## 6.5 Merge con tabla calendary para remplazar date_MGT de matchs por id_calendary de calendary\n",
    "matchs = pd.merge(matchs, calendary, on = \"date_GMT\" ,how='left')"
   ]
  },
  {
   "cell_type": "code",
   "execution_count": null,
   "metadata": {},
   "outputs": [],
   "source": [
    "## 6.6 Primera selección y orden de columnas \n",
    "matchs = matchs[['id_match','id_calendary','id_stadium','id_refere','home_team_name', 'away_team_name', 'referee', 'Game Week',\n",
    "       'home_team_goal_count', 'away_team_goal_count', 'total_goal_count',\n",
    "       'home_team_yellow_cards', 'home_team_red_cards',\n",
    "       'away_team_yellow_cards', 'away_team_red_cards']]"
   ]
  },
  {
   "cell_type": "code",
   "execution_count": null,
   "metadata": {},
   "outputs": [],
   "source": [
    "## 6.7 Merge con tabla teams para remplazar home_team_name de matchs por id_team de teams \n",
    "matchs = pd.merge(matchs, teams, left_on='home_team_name', right_on='common_name', how='left')"
   ]
  },
  {
   "cell_type": "code",
   "execution_count": null,
   "metadata": {},
   "outputs": [],
   "source": [
    "## 6.8 Segunda selección y orden de columnas \n",
    "matchs = matchs[['id_match', 'id_calendary', 'id_stadium', 'id_refere', 'home_team_name',\n",
    "       'away_team_name', 'referee', 'Game Week', 'home_team_goal_count',\n",
    "       'away_team_goal_count', 'total_goal_count', 'home_team_yellow_cards',\n",
    "       'home_team_red_cards', 'away_team_yellow_cards', 'away_team_red_cards',\n",
    "       'id_teams', 'team_name', 'common_name']]"
   ]
  },
  {
   "cell_type": "code",
   "execution_count": null,
   "metadata": {},
   "outputs": [],
   "source": [
    "## 6.9 Reemplazo de nombres de columnas columnas home\n",
    "matchs.rename(columns={\"common_name\":\"home_team\",\"id_teams\":\"id_teams_home\"}, inplace= True)"
   ]
  },
  {
   "cell_type": "code",
   "execution_count": null,
   "metadata": {},
   "outputs": [],
   "source": [
    "## 6.10 Tercera selección y orden de columnas\n",
    "matchs = matchs[['id_match', 'id_calendary', 'id_stadium', 'id_refere', 'home_team_name',\n",
    "       'away_team_name', 'referee', 'Game Week', 'home_team_goal_count',\n",
    "       'away_team_goal_count', 'total_goal_count', 'home_team_yellow_cards',\n",
    "       'home_team_red_cards', 'away_team_yellow_cards', 'away_team_red_cards',\n",
    "       'id_teams_home', 'home_team']]"
   ]
  },
  {
   "cell_type": "code",
   "execution_count": null,
   "metadata": {},
   "outputs": [],
   "source": [
    "## 6.11 Merge con tabla teams para remplazar away_team_name de matchs por id_team de teams \n",
    "matchs = pd.merge(matchs, teams, left_on='away_team_name', right_on='common_name', how='left')"
   ]
  },
  {
   "cell_type": "code",
   "execution_count": null,
   "metadata": {},
   "outputs": [],
   "source": [
    "## 6.12 Reemplazo de nombres de columnas columnas home\n",
    "matchs.rename(columns={\"common_name\":\"away_team\",\"id_teams\":\"id_teams_aways\"}, inplace= True)"
   ]
  },
  {
   "cell_type": "code",
   "execution_count": null,
   "metadata": {},
   "outputs": [],
   "source": [
    "## 6.13 Tercera selección y orden de columnas\n",
    "matchs = matchs[['id_match', 'id_calendary', 'id_stadium', 'id_refere','id_teams_home', 'id_teams_aways',\n",
    "       'Game Week', 'home_team_goal_count',\n",
    "       'away_team_goal_count', 'total_goal_count', 'home_team_yellow_cards',\n",
    "       'home_team_red_cards', 'away_team_yellow_cards', 'away_team_red_cards']]"
   ]
  },
  {
   "cell_type": "code",
   "execution_count": null,
   "metadata": {},
   "outputs": [],
   "source": [
    "## 6.14 Cambio obede a stadiums pero tuvo que realizarse al final de la limpieza \n",
    "stadiums = stadiums[['id_stadium', 'Stadium', 'location', 'ability',\n",
    "       'opening_year']]"
   ]
  },
  {
   "cell_type": "markdown",
   "metadata": {},
   "source": [
    "## 7.Export to Mysql"
   ]
  },
  {
   "cell_type": "code",
   "execution_count": null,
   "metadata": {},
   "outputs": [],
   "source": [
    "# Obtener la contraseña de forma segura\n",
    "password = getpass.getpass()\n",
    "# Configuración de la base de datos y la conexión\n",
    "bd = \"proj_soccer\"\n",
    "connection_string = 'mysql+pymysql://root:' + password + '@localhost/' + bd\n",
    "engine = create_engine(connection_string)\n",
    "players.to_sql('players', con=engine, if_exists='replace', index=False)\n",
    "matchs.to_sql('matchs', con=engine, if_exists='replace', index=False)\n",
    "calendary.to_sql('calendary', con=engine, if_exists='replace', index=False)\n",
    "referes.to_sql('referes', con=engine, if_exists='replace', index=False)\n",
    "stadiums.to_sql('stadiums', con=engine, if_exists='replace', index=False)\n",
    "teams.to_sql('teams', con=engine, if_exists='replace', index=False)"
   ]
  }
 ],
 "metadata": {
  "language_info": {
   "name": "python"
  }
 },
 "nbformat": 4,
 "nbformat_minor": 2
}
